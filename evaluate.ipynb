{
 "cells": [
  {
   "cell_type": "code",
   "execution_count": 166,
   "metadata": {},
   "outputs": [],
   "source": [
    "import numpy as np\n",
    "import skimage\n",
    "import skimage.io\n",
    "import cv2 as cv"
   ]
  },
  {
   "cell_type": "code",
   "execution_count": 169,
   "metadata": {},
   "outputs": [],
   "source": [
    "def get_all_test_data(im_list, la_list):\n",
    "    '''Read CamVid test dataset files'''\n",
    "    images = []\n",
    "    labels = []\n",
    "    # index = 0\n",
    "    for im_filename, la_filename in zip(im_list, la_list):\n",
    "        im = np.array(skimage.io.imread(im_filename), np.float32)\n",
    "#         im = im[np.newaxis]\n",
    "#         la = skimage.io.imread(la_filename)\n",
    "#         la = la[np.newaxis]\n",
    "#         la = la[...,np.newaxis]\n",
    "        la = np.array(skimage.io.imread(la_filename), np.float32)\n",
    "#         la = la[np.newaxis]\n",
    "        images.append(im)\n",
    "        labels.append(la)\n",
    "    return images, labels"
   ]
  },
  {
   "cell_type": "code",
   "execution_count": 170,
   "metadata": {},
   "outputs": [],
   "source": [
    "def get_filename_list(path):\n",
    "    '''CamVid'''\n",
    "    fd = open(path)\n",
    "    image_filenames = []\n",
    "    label_filenames = []\n",
    "    filenames = []\n",
    "    for i in fd:\n",
    "        i = i.strip().split(\" \")\n",
    "        image_filenames.append(i[0])\n",
    "        label_filenames.append(i[1])\n",
    "    return image_filenames, label_filenames"
   ]
  },
  {
   "cell_type": "code",
   "execution_count": 236,
   "metadata": {},
   "outputs": [],
   "source": [
    "image_filenames, label_filenames = get_filename_list('./test.txt')\n",
    "test_images, test_labels = get_all_test_data(image_filenames, label_filenames)"
   ]
  },
  {
   "cell_type": "code",
   "execution_count": 237,
   "metadata": {},
   "outputs": [],
   "source": [
    "pred_depth = np.load('pred_images/depth_points.npy')\n",
    "pred = pred_depth[0]\n",
    "label = test_labels[0]"
   ]
  },
  {
   "cell_type": "code",
   "execution_count": 182,
   "metadata": {},
   "outputs": [],
   "source": [
    "def compute_all_err(pred, label):\n",
    "    '''compute error of all region.'''\n",
    "    depth = label[:,:,0] + 0.01*label[:,:,1] + 0.0001*label[:,:,2]\n",
    "    pred = pred[:,:,0]\n",
    "    err = np.sqrt(np.square(pred - depth))\n",
    "    mean_err = np.mean(err)\n",
    "    return mean_err"
   ]
  },
  {
   "cell_type": "code",
   "execution_count": 183,
   "metadata": {},
   "outputs": [
    {
     "name": "stderr",
     "output_type": "stream",
     "text": [
      "/home/users/caojia.liang/tools/Anaconda/anaconda2/lib/python2.7/site-packages/ipykernel_launcher.py:5: RuntimeWarning: invalid value encountered in sqrt\n",
      "  \"\"\"\n"
     ]
    },
    {
     "data": {
      "text/plain": [
       "0.07161998"
      ]
     },
     "execution_count": 183,
     "metadata": {},
     "output_type": "execute_result"
    }
   ],
   "source": [
    "compute_all_err(pred, label)"
   ]
  },
  {
   "cell_type": "code",
   "execution_count": 235,
   "metadata": {},
   "outputs": [],
   "source": [
    "def compute_sparse_err(pred, label):\n",
    "    '''compute error of regions which have sparse points.'''\n",
    "    depth = label[:,:,0] + 0.01*label[:,:,1] + 0.0001*label[:,:,2]\n",
    "    pred = pred[:,:,0]\n",
    "    ind_valid = (depth != 0)\n",
    "    n_total = np.sum(ind_valid)\n",
    "    pred_valid = pred[ind_valid]\n",
    "    total_err = np.sum(pred_valid)\n",
    "    pred_non = (pred != 0)\n",
    "    n_pred = np.sum(pred_non)\n",
    "    return total_err, n_total, n_pred"
   ]
  },
  {
   "cell_type": "code",
   "execution_count": 238,
   "metadata": {},
   "outputs": [
    {
     "data": {
      "text/plain": [
       "(0.0, 1320, 120)"
      ]
     },
     "execution_count": 238,
     "metadata": {},
     "output_type": "execute_result"
    }
   ],
   "source": [
    "compute_sparse_err(pred, label)"
   ]
  },
  {
   "cell_type": "code",
   "execution_count": null,
   "metadata": {},
   "outputs": [],
   "source": []
  }
 ],
 "metadata": {
  "kernelspec": {
   "display_name": "Python 3",
   "language": "python",
   "name": "python3"
  },
  "language_info": {
   "codemirror_mode": {
    "name": "ipython",
    "version": 2
   },
   "file_extension": ".py",
   "mimetype": "text/x-python",
   "name": "python",
   "nbconvert_exporter": "python",
   "pygments_lexer": "ipython2",
   "version": "2.7.15"
  }
 },
 "nbformat": 4,
 "nbformat_minor": 2
}
